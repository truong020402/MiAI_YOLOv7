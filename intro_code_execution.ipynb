{
  "cells": [
    {
      "cell_type": "markdown",
      "metadata": {
        "id": "view-in-github",
        "colab_type": "text"
      },
      "source": [
        "<a href=\"https://colab.research.google.com/github/truong020402/MiAI_YOLOv7/blob/main/intro_code_execution.ipynb\" target=\"_parent\"><img src=\"https://colab.research.google.com/assets/colab-badge.svg\" alt=\"Open In Colab\"/></a>"
      ]
    },
    {
      "cell_type": "code",
      "execution_count": null,
      "metadata": {
        "id": "ur8xi4C7S06n"
      },
      "outputs": [],
      "source": [
        "# Copyright 2024 Google LLC\n",
        "#\n",
        "# Licensed under the Apache License, Version 2.0 (the \"License\");\n",
        "# you may not use this file except in compliance with the License.\n",
        "# You may obtain a copy of the License at\n",
        "#\n",
        "#     https://www.apache.org/licenses/LICENSE-2.0\n",
        "#\n",
        "# Unless required by applicable law or agreed to in writing, software\n",
        "# distributed under the License is distributed on an \"AS IS\" BASIS,\n",
        "# WITHOUT WARRANTIES OR CONDITIONS OF ANY KIND, either express or implied.\n",
        "# See the License for the specific language governing permissions and\n",
        "# limitations under the License."
      ]
    },
    {
      "cell_type": "markdown",
      "metadata": {
        "id": "JAPoU8Sm5E6e"
      },
      "source": [
        "# Intro to Generating and Executing Python Code with Gemini 2.5\n",
        "\n",
        "<table align=\"left\">\n",
        "  <td style=\"text-align: center\">\n",
        "    <a href=\"https://colab.research.google.com/github/chitoan1992/gdg-codelab-code-execution/blob/main/intro_code_execution.ipynb\">\n",
        "      <img width=\"32px\" src=\"https://www.gstatic.com/pantheon/images/bigquery/welcome_page/colab-logo.svg\" alt=\"Google Colaboratory logo\"><br> Open in Colab\n",
        "    </a>\n",
        "  </td>\n",
        "  <td style=\"text-align: center\">\n",
        "    <a href=\"https://github.com/chitoan1992/gdg-codelab-code-execution/blob/main/intro_code_execution.ipynb\">\n",
        "      <img width=\"32px\" src=\"https://www.svgrepo.com/download/217753/github.svg\" alt=\"GitHub logo\"><br> View on GitHub\n",
        "    </a>\n",
        "  </td>\n",
        "</table>"
      ]
    },
    {
      "cell_type": "markdown",
      "metadata": {
        "id": "tvgnzT1CKxrO"
      },
      "source": [
        "The Gemini API [code execution](https://ai.google.dev/gemini-api/docs/code-execution) feature enables the model to generate and run Python code based on plain-text instructions that you give it, and even output graphs. It can learn iteratively from the results until it arrives at a final output."
      ]
    },
    {
      "cell_type": "markdown",
      "metadata": {
        "id": "61RBz8LLbxCR"
      },
      "source": [
        "## Getting started"
      ]
    },
    {
      "cell_type": "markdown",
      "metadata": {
        "id": "No17Cw5hgx12"
      },
      "source": [
        "### Install Google Gen AI SDK for Python\n"
      ]
    },
    {
      "cell_type": "code",
      "execution_count": 1,
      "metadata": {
        "id": "tFy3H3aPgx12",
        "outputId": "09af2acd-62f6-4084-dc0f-1767bc441435",
        "colab": {
          "base_uri": "https://localhost:8080/"
        }
      },
      "outputs": [
        {
          "output_type": "stream",
          "name": "stdout",
          "text": [
            "\u001b[?25l     \u001b[90m━━━━━━━━━━━━━━━━━━━━━━━━━━━━━━━━━━━━━━━━\u001b[0m \u001b[32m0.0/41.6 kB\u001b[0m \u001b[31m?\u001b[0m eta \u001b[36m-:--:--\u001b[0m\r\u001b[2K     \u001b[90m━━━━━━━━━━━━━━━━━━━━━━━━━━━━━━━━━━━━━━━━\u001b[0m \u001b[32m41.6/41.6 kB\u001b[0m \u001b[31m1.6 MB/s\u001b[0m eta \u001b[36m0:00:00\u001b[0m\n",
            "\u001b[?25h\u001b[?25l   \u001b[90m━━━━━━━━━━━━━━━━━━━━━━━━━━━━━━━━━━━━━━━━\u001b[0m \u001b[32m0.0/226.8 kB\u001b[0m \u001b[31m?\u001b[0m eta \u001b[36m-:--:--\u001b[0m\r\u001b[2K   \u001b[91m━━━━━━━━━━━━━━━━━━━━━━━━━━━━━━━━━━━━━━━\u001b[0m\u001b[91m╸\u001b[0m \u001b[32m225.3/226.8 kB\u001b[0m \u001b[31m8.6 MB/s\u001b[0m eta \u001b[36m0:00:01\u001b[0m\r\u001b[2K   \u001b[90m━━━━━━━━━━━━━━━━━━━━━━━━━━━━━━━━━━━━━━━━\u001b[0m \u001b[32m226.8/226.8 kB\u001b[0m \u001b[31m5.6 MB/s\u001b[0m eta \u001b[36m0:00:00\u001b[0m\n",
            "\u001b[?25h"
          ]
        }
      ],
      "source": [
        "%pip install --upgrade --quiet google-genai"
      ]
    },
    {
      "cell_type": "markdown",
      "metadata": {
        "id": "dmWOrTJ3gx13"
      },
      "source": [
        "### Authenticate your notebook environment (Colab only)\n",
        "\n",
        "If you're running this notebook on Google Colab, run the cell below to authenticate your environment."
      ]
    },
    {
      "cell_type": "code",
      "execution_count": null,
      "metadata": {
        "id": "NyKGtVQjgx13"
      },
      "outputs": [],
      "source": [
        "import sys\n",
        "\n",
        "if \"google.colab\" in sys.modules:\n",
        "    from google.colab import auth\n",
        "\n",
        "    auth.authenticate_user()"
      ]
    },
    {
      "cell_type": "markdown",
      "metadata": {
        "id": "0fggiCx13zxX"
      },
      "source": [
        "### Import libraries"
      ]
    },
    {
      "cell_type": "code",
      "execution_count": null,
      "metadata": {
        "id": "JbrnA9yv3zMC"
      },
      "outputs": [],
      "source": [
        "import os\n",
        "\n",
        "from IPython.display import Markdown, display\n",
        "from google import genai\n",
        "from google.genai.types import GenerateContentConfig, Tool, ToolCodeExecution"
      ]
    },
    {
      "cell_type": "markdown",
      "metadata": {
        "id": "vXiC1rOE3gSZ"
      },
      "source": [
        "### Connect to a generative AI API service\n",
        "\n",
        "Google Gen AI APIs and models including Gemini are available in the following two API services:\n",
        "\n",
        "- [Google AI for Developers](https://ai.google.dev/gemini-api/docs): Experiment, prototype, and deploy small projects.\n",
        "- [Vertex AI](https://cloud.google.com/vertex-ai/generative-ai/docs): Build enterprise-ready projects on Google Cloud.\n",
        "The Google Gen AI SDK provides a unified interface to these two API services.\n",
        "\n",
        "This notebook shows how to use the Google Gen AI SDK with the Gemini API in Vertex AI."
      ]
    },
    {
      "cell_type": "markdown",
      "metadata": {
        "id": "DF4l8DTdWgPY"
      },
      "source": [
        "### Set Google Cloud project information and create client\n",
        "\n",
        "To get started using Vertex AI, you must have an existing Google Cloud project and [enable the Vertex AI API](https://console.cloud.google.com/flows/enableapi?apiid=aiplatform.googleapis.com).\n",
        "\n",
        "Learn more about [setting up a project and a development environment](https://cloud.google.com/vertex-ai/docs/start/cloud-environment)."
      ]
    },
    {
      "cell_type": "code",
      "execution_count": null,
      "metadata": {
        "id": "Nqwi-5ufWp_B"
      },
      "outputs": [],
      "source": [
        "PROJECT_ID = \"gen-lang-client-0469480850\"  # @param {type: \"string\", placeholder: \"[your-project-id]\", isTemplate: true}\n",
        "if not PROJECT_ID or PROJECT_ID == \"[your-project-id]\":\n",
        "    PROJECT_ID = str(os.environ.get(\"GOOGLE_CLOUD_PROJECT\"))\n",
        "\n",
        "LOCATION = os.environ.get(\"GOOGLE_CLOUD_REGION\", \"us-central1\")"
      ]
    },
    {
      "cell_type": "code",
      "execution_count": null,
      "metadata": {
        "id": "3Ab5NQwr4B8j"
      },
      "outputs": [],
      "source": [
        "client = genai.Client(vertexai=True, project=PROJECT_ID, location=LOCATION)"
      ]
    },
    {
      "cell_type": "markdown",
      "metadata": {
        "id": "oQN_6yk5J2rU"
      },
      "source": [
        "#### (Optional) If project ID is not set, we can use api key"
      ]
    },
    {
      "cell_type": "code",
      "execution_count": null,
      "metadata": {
        "id": "EX3J3kjIJ2rV"
      },
      "outputs": [],
      "source": [
        "# from google.colab import userdata\n",
        "# GOOGLE_API_KEY = userdata.get('GOOGLE_API_KEY')\n",
        "# client = genai.Client(api_key=GOOGLE_API_KEY)"
      ]
    },
    {
      "cell_type": "markdown",
      "metadata": {
        "id": "x1vpnyk-q-fz"
      },
      "source": [
        "## Working with code execution in Gemini 2.5\n",
        "\n",
        "### Load the Gemini model\n",
        "\n",
        "The following code loads the Gemini 2.5 Flash model. You can learn about all Gemini models on Vertex AI by visiting the [documentation](https://cloud.google.com/vertex-ai/generative-ai/docs/learn/models):"
      ]
    },
    {
      "cell_type": "code",
      "execution_count": null,
      "metadata": {
        "id": "L8gLWcOFqqF2"
      },
      "outputs": [],
      "source": [
        "MODEL_ID = \"gemini-2.5-flash\"  # @param {type: \"string\"}"
      ]
    },
    {
      "cell_type": "markdown",
      "metadata": {
        "id": "q-jdBwXlM67j"
      },
      "source": [
        "### Define the code execution tool\n",
        "\n",
        "The following code initializes the code execution tool by passing `code_execution` in a `Tool` definition.\n",
        "\n",
        "Later we'll register this tool with the model that it can use to generate and run Python code:"
      ]
    },
    {
      "cell_type": "code",
      "execution_count": null,
      "metadata": {
        "id": "BFxIcGkxbq3_"
      },
      "outputs": [],
      "source": [
        "code_execution_tool = Tool(code_execution=ToolCodeExecution())"
      ]
    },
    {
      "cell_type": "markdown",
      "metadata": {
        "id": "iVyIW9HSJ2rT"
      },
      "source": [
        "### Helper function\n",
        "\n",
        "When using code execution as a tool, the model returns a list of parts including `text`, `executable_code`, `execution_result`, and `inline_data` parts. Use the function below to help you visualize and better display the code execution results. Here are a few details about the different fields of the results:\n",
        "\n",
        "* `text`: Inline text generated by the model.\n",
        "* `executable_code`: Code generated by the model that is meant to be executed.\n",
        "* `code_execution_result`: Result of the `executable_code`.\n",
        "* `inline_data`: Inline media generated by the model."
      ]
    },
    {
      "cell_type": "code",
      "execution_count": null,
      "metadata": {
        "id": "eS4k8GYJJ2rT"
      },
      "outputs": [],
      "source": [
        "from IPython.display import Image, Markdown, Code, HTML\n",
        "\n",
        "def display_code_execution_result(response):\n",
        "  for part in response.candidates[0].content.parts:\n",
        "    if part.text is not None:\n",
        "      display(Markdown(part.text))\n",
        "    if part.executable_code is not None:\n",
        "      code_html = f'<pre style=\"background-color: green;\">{part.executable_code.code}</pre>' # Change code color\n",
        "      display(HTML(code_html))\n",
        "    if part.code_execution_result is not None:\n",
        "      display(Markdown(part.code_execution_result.output))\n",
        "    if part.inline_data is not None:\n",
        "      display(Image(data=part.inline_data.data, width=800, format=\"png\"))\n",
        "    display(Markdown(\"---\"))"
      ]
    },
    {
      "cell_type": "markdown",
      "metadata": {
        "id": "mZgn5tm-NCfH"
      },
      "source": [
        "### Generate and execute code\n",
        "\n",
        "The following code sends a prompt to the Gemini model, asking it to generate and execute Python code to calculate the sum of the first 50 prime numbers. The code execution tool is passed in so the model can generate and run the code:"
      ]
    },
    {
      "cell_type": "markdown",
      "metadata": {
        "id": "0EZvjMSrJ2rV"
      },
      "source": [
        "Without code_execution"
      ]
    },
    {
      "cell_type": "code",
      "execution_count": null,
      "metadata": {
        "colab": {
          "base_uri": "https://localhost:8080/",
          "height": 1000
        },
        "id": "glA5n3wbJ2rV",
        "outputId": "03276d64-d458-4f61-cc53-ec62b23dbaac"
      },
      "outputs": [
        {
          "data": {
            "text/markdown": [
              "Calculating the sum of the first 50 prime numbers is a computational task, as there isn't a simple formula for the sum of primes. We first need to identify the first 50 prime numbers and then sum them up.\n",
              "\n",
              "Here are the first 50 prime numbers:\n",
              "\n",
              "1.  2\n",
              "2.  3\n",
              "3.  5\n",
              "4.  7\n",
              "5.  11\n",
              "6.  13\n",
              "7.  17\n",
              "8.  19\n",
              "9.  23\n",
              "10. 29\n",
              "11. 31\n",
              "12. 37\n",
              "13. 41\n",
              "14. 43\n",
              "15. 47\n",
              "16. 53\n",
              "17. 59\n",
              "18. 61\n",
              "19. 67\n",
              "20. 71\n",
              "21. 73\n",
              "22. 79\n",
              "23. 83\n",
              "24. 89\n",
              "25. 97\n",
              "26. 101\n",
              "27. 103\n",
              "28. 107\n",
              "29. 109\n",
              "30. 113\n",
              "31. 127\n",
              "32. 131\n",
              "33. 137\n",
              "34. 139\n",
              "35. 149\n",
              "36. 151\n",
              "37. 157\n",
              "38. 163\n",
              "39. 167\n",
              "40. 173\n",
              "41. 179\n",
              "42. 181\n",
              "43. 191\n",
              "44. 193\n",
              "45. 197\n",
              "46. 199\n",
              "47. 211\n",
              "48. 223\n",
              "49. 227\n",
              "50. 229\n",
              "\n",
              "Now, let's sum these numbers:\n",
              "\n",
              "2 + 3 + 5 + 7 + 11 + 13 + 17 + 19 + 23 + 29 + 31 + 37 + 41 + 43 + 47 + 53 + 59 + 61 + 67 + 71 + 73 + 79 + 83 + 89 + 97 + 101 + 103 + 107 + 109 + 113 + 127 + 131 + 137 + 139 + 149 + 151 + 157 + 163 + 167 + 173 + 179 + 181 + 191 + 193 + 197 + 199 + 211 + 223 + 227 + 229\n",
              "\n",
              "The sum of the first 50 prime numbers is **5736**."
            ],
            "text/plain": [
              "<IPython.core.display.Markdown object>"
            ]
          },
          "metadata": {},
          "output_type": "display_data"
        },
        {
          "data": {
            "text/markdown": [
              "---"
            ],
            "text/plain": [
              "<IPython.core.display.Markdown object>"
            ]
          },
          "metadata": {},
          "output_type": "display_data"
        }
      ],
      "source": [
        "response = client.models.generate_content(\n",
        "    model=MODEL_ID,\n",
        "    contents=\"Calculate the sum of the first 50 prime numbers\" # @param {type: \"string\" }\n",
        ")\n",
        "\n",
        "display_code_execution_result(response)"
      ]
    },
    {
      "cell_type": "markdown",
      "metadata": {
        "id": "VnIf4_I_J2rW",
        "vscode": {
          "languageId": "html"
        }
      },
      "source": [
        "With code_execution"
      ]
    },
    {
      "cell_type": "code",
      "execution_count": null,
      "metadata": {
        "colab": {
          "base_uri": "https://localhost:8080/",
          "height": 562
        },
        "id": "iCXtFRETJ2rW",
        "outputId": "4b2e781c-0d01-4423-a346-6e01ef1e5e15"
      },
      "outputs": [
        {
          "data": {
            "text/markdown": [
              "To calculate the sum of the first 50 prime numbers, I will use a Python script.\n",
              "First, I'll define a function to check if a number is prime.\n",
              "Second, I'll iterate through numbers, checking for primality, until I find the first 50 prime numbers.\n",
              "Finally, I will sum these prime numbers.\n",
              "\n"
            ],
            "text/plain": [
              "<IPython.core.display.Markdown object>"
            ]
          },
          "metadata": {},
          "output_type": "display_data"
        },
        {
          "data": {
            "text/markdown": [
              "---"
            ],
            "text/plain": [
              "<IPython.core.display.Markdown object>"
            ]
          },
          "metadata": {},
          "output_type": "display_data"
        },
        {
          "data": {
            "text/html": [
              "<pre style=\"background-color: green;\">import math\n",
              "\n",
              "def is_prime(n):\n",
              "    if n < 2:\n",
              "        return False\n",
              "    for i in range(2, int(math.sqrt(n)) + 1):\n",
              "        if n % i == 0:\n",
              "            return False\n",
              "    return True\n",
              "\n",
              "primes = []\n",
              "num = 2\n",
              "while len(primes) < 50:\n",
              "    if is_prime(num):\n",
              "        primes.append(num)\n",
              "    num += 1\n",
              "\n",
              "sum_of_primes = sum(primes)\n",
              "print(f\"The first 50 prime numbers are: {primes}\")\n",
              "print(f\"The sum of the first 50 prime numbers is: {sum_of_primes}\")</pre>"
            ],
            "text/plain": [
              "<IPython.core.display.HTML object>"
            ]
          },
          "metadata": {},
          "output_type": "display_data"
        },
        {
          "data": {
            "text/markdown": [
              "---"
            ],
            "text/plain": [
              "<IPython.core.display.Markdown object>"
            ]
          },
          "metadata": {},
          "output_type": "display_data"
        },
        {
          "data": {
            "text/markdown": [
              "The first 50 prime numbers are: [2, 3, 5, 7, 11, 13, 17, 19, 23, 29, 31, 37, 41, 43, 47, 53, 59, 61, 67, 71, 73, 79, 83, 89, 97, 101, 103, 107, 109, 113, 127, 131, 137, 139, 149, 151, 157, 163, 167, 173, 179, 181, 191, 193, 197, 199, 211, 223, 227, 229]\n",
              "The sum of the first 50 prime numbers is: 5117\n"
            ],
            "text/plain": [
              "<IPython.core.display.Markdown object>"
            ]
          },
          "metadata": {},
          "output_type": "display_data"
        },
        {
          "data": {
            "text/markdown": [
              "---"
            ],
            "text/plain": [
              "<IPython.core.display.Markdown object>"
            ]
          },
          "metadata": {},
          "output_type": "display_data"
        },
        {
          "data": {
            "text/markdown": [
              "The first 50 prime numbers are: 2, 3, 5, 7, 11, 13, 17, 19, 23, 29, 31, 37, 41, 43, 47, 53, 59, 61, 67, 71, 73, 79, 83, 89, 97, 101, 103, 107, 109, 113, 127, 131, 137, 139, 149, 151, 157, 163, 167, 173, 179, 181, 191, 193, 197, 199, 211, 223, 227, 229.\n",
              "\n",
              "The sum of the first 50 prime numbers is **5117**."
            ],
            "text/plain": [
              "<IPython.core.display.Markdown object>"
            ]
          },
          "metadata": {},
          "output_type": "display_data"
        },
        {
          "data": {
            "text/markdown": [
              "---"
            ],
            "text/plain": [
              "<IPython.core.display.Markdown object>"
            ]
          },
          "metadata": {},
          "output_type": "display_data"
        }
      ],
      "source": [
        "from google.genai import types\n",
        "\n",
        "response_0 = client.models.generate_content(\n",
        "    model=MODEL_ID,\n",
        "    contents=\"Calculate the sum of the first 50 prime numbers\" # @param {type: \"string\" }\n",
        "    , config=types.GenerateContentConfig(\n",
        "        tools=[types.Tool(\n",
        "            code_execution=types.ToolCodeExecution\n",
        "            )]\n",
        "        )\n",
        "    )\n",
        "\n",
        "display_code_execution_result(response_0)"
      ]
    },
    {
      "cell_type": "markdown",
      "metadata": {
        "id": "cBkoexLndotR"
      },
      "source": [
        "#### Your turn\n",
        "Rewrite the question in your language and execute\n",
        "Example: Calculate the sum of the first 50 prime numbers -> Tính tổng 50 số nguyên tố đầu tiên"
      ]
    },
    {
      "cell_type": "markdown",
      "metadata": {
        "id": "Bl6KG5Ufu5XQ"
      },
      "source": [
        "### Code execution in a streaming session\n",
        "\n",
        "You can also use the code execution functionality with streaming output from the Gemini API.\n",
        "\n",
        "The following code demonstrates how the Gemini API can generate and execute code while streaming the results:"
      ]
    },
    {
      "cell_type": "code",
      "execution_count": null,
      "metadata": {
        "colab": {
          "base_uri": "https://localhost:8080/",
          "height": 996
        },
        "id": "ZgcWsDj3J2rX",
        "outputId": "4ef63467-ea92-46f8-e7fc-c0de787565e9"
      },
      "outputs": [
        {
          "data": {
            "text/markdown": [
              "To plot a sine wave, we"
            ],
            "text/plain": [
              "<IPython.core.display.Markdown object>"
            ]
          },
          "metadata": {},
          "output_type": "display_data"
        },
        {
          "data": {
            "text/markdown": [
              "---"
            ],
            "text/plain": [
              "<IPython.core.display.Markdown object>"
            ]
          },
          "metadata": {},
          "output_type": "display_data"
        },
        {
          "data": {
            "text/markdown": [
              "'ll use the `numpy` library to generate the data points and `matplotlib.pyplot` to create the plot.\n",
              "\n",
              "Here's the Python code to achieve this:\n",
              "\n"
            ],
            "text/plain": [
              "<IPython.core.display.Markdown object>"
            ]
          },
          "metadata": {},
          "output_type": "display_data"
        },
        {
          "data": {
            "text/markdown": [
              "---"
            ],
            "text/plain": [
              "<IPython.core.display.Markdown object>"
            ]
          },
          "metadata": {},
          "output_type": "display_data"
        },
        {
          "data": {
            "text/html": [
              "<pre style=\"background-color: green;\">import numpy as np\n",
              "import matplotlib.pyplot as plt\n",
              "\n",
              "# Generate x values (e.g., from 0 to 2*pi)\n",
              "x = np.linspace(0, 2 * np.pi, 400)\n",
              "\n",
              "# Calculate y values (sine of x)\n",
              "y = np.sin(x)\n",
              "\n",
              "# Create the plot\n",
              "plt.figure(figsize=(8, 4)) # Set the figure size for better viewing\n",
              "plt.plot(x, y, label='sin(x)', color='blue')\n",
              "\n",
              "# Add labels and title\n",
              "plt.title('Sine Wave Plot')\n",
              "plt.xlabel('X-axis (Radians)')\n",
              "plt.ylabel('Y-axis (Amplitude)')\n",
              "plt.grid(True) # Add a grid for readability\n",
              "plt.axhline(0, color='black', linewidth=0.5) # Add a horizontal line at y=0\n",
              "plt.axvline(0, color='black', linewidth=0.5) # Add a vertical line at x=0\n",
              "plt.legend() # Show the legend\n",
              "\n",
              "# Display the plot\n",
              "plt.show()\n",
              "</pre>"
            ],
            "text/plain": [
              "<IPython.core.display.HTML object>"
            ]
          },
          "metadata": {},
          "output_type": "display_data"
        },
        {
          "data": {
            "text/markdown": [
              "---"
            ],
            "text/plain": [
              "<IPython.core.display.Markdown object>"
            ]
          },
          "metadata": {},
          "output_type": "display_data"
        },
        {
          "data": {
            "image/png": "[encoded data removed]",
            "text/plain": [
              "<IPython.core.display.Image object>"
            ]
          },
          "metadata": {
            "image/png": {
              "width": 800
            }
          },
          "output_type": "display_data"
        },
        {
          "data": {
            "text/markdown": [
              "---"
            ],
            "text/plain": [
              "<IPython.core.display.Markdown object>"
            ]
          },
          "metadata": {},
          "output_type": "display_data"
        },
        {
          "data": {
            "text/markdown": [
              "The image you provided confirms that the Python code successfully generated the sine wave plot as requested."
            ],
            "text/plain": [
              "<IPython.core.display.Markdown object>"
            ]
          },
          "metadata": {},
          "output_type": "display_data"
        },
        {
          "data": {
            "text/markdown": [
              "---"
            ],
            "text/plain": [
              "<IPython.core.display.Markdown object>"
            ]
          },
          "metadata": {},
          "output_type": "display_data"
        }
      ],
      "source": [
        "prompt = \"Generate Python code to plot a sine wave and execute it.\" # @param {type: \"string\"}\n",
        "result = client.models.generate_content_stream(\n",
        "    model=MODEL_ID,\n",
        "    contents=[\n",
        "        prompt\n",
        "    ],\n",
        "    config=types.GenerateContentConfig(\n",
        "        tools=[types.Tool(code_execution=types.ToolCodeExecution)]\n",
        "    )\n",
        ")\n",
        "\n",
        "for chunk in result:\n",
        "    display_code_execution_result(chunk)"
      ]
    },
    {
      "cell_type": "markdown",
      "metadata": {
        "id": "PiQ_mbvJdotS"
      },
      "source": [
        "#### Your turn\n",
        "Rewrite the question in your language and execute\n",
        "Example: Generate Python code to plot a sine wave and execute it. -> Viết hàm python vẽ đồ thị hình sin"
      ]
    },
    {
      "cell_type": "markdown",
      "metadata": {
        "id": "2a4e033321ad"
      },
      "source": [
        "### Multimodal prompting\n",
        "\n",
        "You can pass media objects as part of the prompt, the model can look at these objects but it can't use them in the code.\n",
        "\n",
        "In this example, you will interact with Gemini API, using code execution, to run simulations of the [Monty Hall Problem](https://en.wikipedia.org/wiki/Monty_Hall_problem)."
      ]
    },
    {
      "cell_type": "code",
      "execution_count": null,
      "metadata": {
        "colab": {
          "base_uri": "https://localhost:8080/"
        },
        "id": "EQnn-CzMJ2ri",
        "outputId": "87a3605f-c255-4aa7-ca4e-3f5592bc15d9"
      },
      "outputs": [
        {
          "name": "stdout",
          "output_type": "stream",
          "text": [
            "  % Total    % Received % Xferd  Average Speed   Time    Time     Time  Current\n",
            "                                 Dload  Upload   Total   Spent    Left  Speed\n",
            "100 29344  100 29344    0     0  52340      0 --:--:-- --:--:-- --:--:-- 52400\n"
          ]
        }
      ],
      "source": [
        "IMAGE_URL = \"https://blogger.googleusercontent.com/img/b/R29vZ2xl/AVvXsEi7NH71SLX7jxATndCfeSqBvs-wijDhEpHIRoIZlI0ukvF1DQCEsAwqPjaPAPQs8WpnB5TU3QBIeR93rWQFh3BL-iNGMb4VSCc1T_ixmw2Y-k6OHwYT8iJ6p8wyWE5xnSKkBkgSd9pZmpOx/s800/maths-quiz-puzzle-question.png\"  # @param {type: \"string\"}\n",
        "! curl -o my_image.png {IMAGE_URL}"
      ]
    },
    {
      "cell_type": "code",
      "execution_count": null,
      "metadata": {
        "colab": {
          "base_uri": "https://localhost:8080/",
          "height": 817
        },
        "id": "gHfeyz5DJ2ri",
        "outputId": "1b733e47-9fa8-458f-dbc6-865982481c51"
      },
      "outputs": [
        {
          "data": {
            "image/png": "[encoded data removed]",
            "text/plain": [
              "<PIL.PngImagePlugin.PngImageFile image mode=P size=800x800>"
            ]
          },
          "execution_count": 57,
          "metadata": {},
          "output_type": "execute_result"
        }
      ],
      "source": [
        "import PIL\n",
        "my_image = PIL.Image.open(\"my_image.png\")\n",
        "my_image"
      ]
    },
    {
      "cell_type": "code",
      "execution_count": null,
      "metadata": {
        "colab": {
          "base_uri": "https://localhost:8080/",
          "height": 969
        },
        "id": "9mc3f7zOJ2ri",
        "outputId": "0a21812e-03cf-4ded-9dc9-742e17f3d77d"
      },
      "outputs": [
        {
          "data": {
            "text/markdown": [
              "This puzzle presents a system of three linear equations with three unknowns, represented by images of fruits. I will assign variables to each fruit and then use a"
            ],
            "text/plain": [
              "<IPython.core.display.Markdown object>"
            ]
          },
          "metadata": {},
          "output_type": "display_data"
        },
        {
          "data": {
            "text/markdown": [
              "---"
            ],
            "text/plain": [
              "<IPython.core.display.Markdown object>"
            ]
          },
          "metadata": {},
          "output_type": "display_data"
        },
        {
          "data": {
            "text/markdown": [
              " Python tool with the `sympy` library to solve the system of equations.\n",
              "\n",
              "Let:\n",
              "*   Pineapple = `P`\n",
              "*   Grape = `G`\n",
              "*   Apple = `A`\n",
              "\n",
              "From the image, I can extract the following equations:\n",
              "\n",
              "1.  `P + G"
            ],
            "text/plain": [
              "<IPython.core.display.Markdown object>"
            ]
          },
          "metadata": {},
          "output_type": "display_data"
        },
        {
          "data": {
            "text/markdown": [
              "---"
            ],
            "text/plain": [
              "<IPython.core.display.Markdown object>"
            ]
          },
          "metadata": {},
          "output_type": "display_data"
        },
        {
          "data": {
            "text/markdown": [
              " = 9`\n",
              "2.  `2G + A = 19`\n",
              "3.  `A + P = 7`\n",
              "\n",
              "The goal is to find the value of `A + G + P`.\n",
              "\n",
              "Now, I will use the `sympy` library to solve this system of equations.\n",
              "\n"
            ],
            "text/plain": [
              "<IPython.core.display.Markdown object>"
            ]
          },
          "metadata": {},
          "output_type": "display_data"
        },
        {
          "data": {
            "text/markdown": [
              "---"
            ],
            "text/plain": [
              "<IPython.core.display.Markdown object>"
            ]
          },
          "metadata": {},
          "output_type": "display_data"
        },
        {
          "data": {
            "text/html": [
              "<pre style=\"background-color: green;\">import sympy\n",
              "\n",
              "P, G, A = sympy.symbols('P G A')\n",
              "\n",
              "eq1 = sympy.Eq(P + G, 9)\n",
              "eq2 = sympy.Eq(2*G + A, 19)\n",
              "eq3 = sympy.Eq(A + P, 7)\n",
              "\n",
              "solution = sympy.solve((eq1, eq2, eq3), (P, G, A))\n",
              "print(f'Solution: {solution}')\n",
              "\n",
              "# Calculate the final expression\n",
              "final_expression = solution[A] + solution[G] + solution[P]\n",
              "print(f'Final Expression (A + G + P): {final_expression}')</pre>"
            ],
            "text/plain": [
              "<IPython.core.display.HTML object>"
            ]
          },
          "metadata": {},
          "output_type": "display_data"
        },
        {
          "data": {
            "text/markdown": [
              "---"
            ],
            "text/plain": [
              "<IPython.core.display.Markdown object>"
            ]
          },
          "metadata": {},
          "output_type": "display_data"
        },
        {
          "data": {
            "text/markdown": [
              "Solution: {A: 5, G: 7, P: 2}\n",
              "Final Expression (A + G + P): 14\n"
            ],
            "text/plain": [
              "<IPython.core.display.Markdown object>"
            ]
          },
          "metadata": {},
          "output_type": "display_data"
        },
        {
          "data": {
            "text/markdown": [
              "---"
            ],
            "text/plain": [
              "<IPython.core.display.Markdown object>"
            ]
          },
          "metadata": {},
          "output_type": "display_data"
        },
        {
          "data": {
            "text/markdown": [
              "The solution for"
            ],
            "text/plain": [
              "<IPython.core.display.Markdown object>"
            ]
          },
          "metadata": {},
          "output_type": "display_data"
        },
        {
          "data": {
            "text/markdown": [
              "---"
            ],
            "text/plain": [
              "<IPython.core.display.Markdown object>"
            ]
          },
          "metadata": {},
          "output_type": "display_data"
        },
        {
          "data": {
            "text/markdown": [
              " each fruit is:\n",
              "*   Apple (`A`) = 5\n",
              "*   Grape ("
            ],
            "text/plain": [
              "<IPython.core.display.Markdown object>"
            ]
          },
          "metadata": {},
          "output_type": "display_data"
        },
        {
          "data": {
            "text/markdown": [
              "---"
            ],
            "text/plain": [
              "<IPython.core.display.Markdown object>"
            ]
          },
          "metadata": {},
          "output_type": "display_data"
        },
        {
          "data": {
            "text/markdown": [
              "`G`) = 7\n",
              "*   Pineapple (`P`) = 2\n",
              "\n",
              "Now"
            ],
            "text/plain": [
              "<IPython.core.display.Markdown object>"
            ]
          },
          "metadata": {},
          "output_type": "display_data"
        },
        {
          "data": {
            "text/markdown": [
              "---"
            ],
            "text/plain": [
              "<IPython.core.display.Markdown object>"
            ]
          },
          "metadata": {},
          "output_type": "display_data"
        },
        {
          "data": {
            "text/markdown": [
              ", I will calculate the value of the final expression: Apple + Grape + Pineapple.\n",
              "\n",
              "`A + G + P = 5 + 7 + 2 = 14"
            ],
            "text/plain": [
              "<IPython.core.display.Markdown object>"
            ]
          },
          "metadata": {},
          "output_type": "display_data"
        },
        {
          "data": {
            "text/markdown": [
              "---"
            ],
            "text/plain": [
              "<IPython.core.display.Markdown object>"
            ]
          },
          "metadata": {},
          "output_type": "display_data"
        },
        {
          "data": {
            "text/markdown": [
              "`\n",
              "\n",
              "The solution to the quiz is 14."
            ],
            "text/plain": [
              "<IPython.core.display.Markdown object>"
            ]
          },
          "metadata": {},
          "output_type": "display_data"
        },
        {
          "data": {
            "text/markdown": [
              "---"
            ],
            "text/plain": [
              "<IPython.core.display.Markdown object>"
            ]
          },
          "metadata": {},
          "output_type": "display_data"
        }
      ],
      "source": [
        "prompt=\"Solve the quizz\" # @param {type: \"string\"}\n",
        "result = client.models.generate_content_stream(\n",
        "    model=MODEL_ID,\n",
        "    contents=[\n",
        "        prompt,\n",
        "        my_image\n",
        "    ],\n",
        "    config=types.GenerateContentConfig(\n",
        "        tools=[types.Tool(code_execution=types.ToolCodeExecution)]\n",
        "    )\n",
        ")\n",
        "for chunk in result:\n",
        "    display_code_execution_result(chunk)"
      ]
    },
    {
      "cell_type": "markdown",
      "metadata": {
        "id": "IWndoqoUdotS"
      },
      "source": [
        "#### Your turn\n",
        "Solve this quizz\n",
        "\n",
        "![image](https://img.jagranjosh.com/images/2024/June/2862024/solve%20the%20math%20puzze%20in%2010%20seconds.jpg)\n",
        "\n",
        "image link: https://img.jagranjosh.com/images/2024/June/2862024/solve%20the%20math%20puzze%20in%2010%20seconds.jpg"
      ]
    },
    {
      "cell_type": "markdown",
      "metadata": {
        "id": "8uJ-Fk1I_AH8"
      },
      "source": [
        "### Code execution in a chat session\n",
        "\n",
        "This section shows how to use code execution in an interactive chat with history using the Gemini API.\n",
        "\n",
        "You can use `client.chats.create` to create a chat session and passes in the code execution tool, enabling the model to generate and run code:"
      ]
    },
    {
      "cell_type": "code",
      "execution_count": null,
      "metadata": {
        "id": "puL91bq7tirC"
      },
      "outputs": [],
      "source": [
        "chat = client.chats.create(\n",
        "    model=MODEL_ID,\n",
        "    config=GenerateContentConfig(\n",
        "        tools=[code_execution_tool],\n",
        "        temperature=0,\n",
        "    ),\n",
        ")"
      ]
    },
    {
      "cell_type": "markdown",
      "metadata": {
        "id": "Bmu4bSApoECT"
      },
      "source": [
        "You'll start the chat by asking the model to generate sample time series data with noise and then output a sample of 10 data points:"
      ]
    },
    {
      "cell_type": "code",
      "execution_count": null,
      "metadata": {
        "colab": {
          "base_uri": "https://localhost:8080/",
          "height": 966
        },
        "id": "8iyq5sKCtstH",
        "outputId": "e161f8dc-5434-4db4-d3d0-34a8cc076904"
      },
      "outputs": [
        {
          "data": {
            "text/markdown": [
              "To create sample time series data of temperature vs. time in a test furnace with added noise, I will follow these steps:\n",
              "\n",
              "1.  **Define a time range:** I'll create a time array representing the duration of the furnace operation.\n",
              "2.  **Generate a base temperature profile:** I'll model the furnace heating up from an initial temperature to a target temperature using an exponential rise, which is typical for heating processes.\n",
              "3.  **Add random noise:** I'll introduce Gaussian noise to the base temperature profile to simulate real-world fluctuations and measurement inaccuracies.\n",
              "4.  **Create a Pandas DataFrame:** Organize the time and temperature data into a DataFrame.\n",
              "5.  **Select a sample:** Finally, I'll extract 10 data points from the generated time series.\n",
              "\n",
              "Here's the Python code to achieve this:\n",
              "\n"
            ],
            "text/plain": [
              "<IPython.core.display.Markdown object>"
            ]
          },
          "metadata": {},
          "output_type": "display_data"
        },
        {
          "data": {
            "text/markdown": [
              "---"
            ],
            "text/plain": [
              "<IPython.core.display.Markdown object>"
            ]
          },
          "metadata": {},
          "output_type": "display_data"
        },
        {
          "data": {
            "text/html": [
              "<pre style=\"background-color: green;\">import numpy as np\n",
              "import pandas as pd\n",
              "\n",
              "# 1. Define time range\n",
              "# Let's simulate 5 hours of furnace operation with 100 data points for the underlying curve\n",
              "time_hours = np.linspace(0, 5, 100)\n",
              "\n",
              "# 2. Generate a base temperature profile (exponential rise)\n",
              "initial_temp = 25  # °C (room temperature)\n",
              "target_temp = 1000 # °C (furnace setpoint)\n",
              "heating_rate_constant = 1.0 # Controls how fast it heats up\n",
              "\n",
              "base_temperature = initial_temp + (target_temp - initial_temp) * (1 - np.exp(-heating_rate_constant * time_hours))\n",
              "\n",
              "# 3. Add random noise\n",
              "noise_std_dev = 20 # Standard deviation of the noise in °C\n",
              "noise = np.random.normal(0, noise_std_dev, len(time_hours))\n",
              "noisy_temperature = base_temperature + noise\n",
              "\n",
              "# Ensure temperature doesn't go below initial temp significantly due to noise\n",
              "# For simplicity, let's cap it at a reasonable minimum if noise pushes it too low\n",
              "noisy_temperature[noisy_temperature < initial_temp - noise_std_dev] = initial_temp - noise_std_dev\n",
              "\n",
              "# 4. Create a DataFrame for better organization\n",
              "furnace_data = pd.DataFrame({\n",
              "    'Time (hours)': time_hours,\n",
              "    'Temperature (°C)': noisy_temperature\n",
              "})\n",
              "\n",
              "# 5. Select a sample of 10 data points\n",
              "# We'll randomly sample 10 points from the generated data\n",
              "# Using a fixed random_state for reproducibility to get the same sample each time this code runs\n",
              "sample_data = furnace_data.sample(n=10, random_state=42).sort_values(by='Time (hours)').reset_index(drop=True)\n",
              "\n",
              "print(\"Sample of 10 Time Series Data Points (Temperature vs. Time):\")\n",
              "print(sample_data.to_string(index=False))\n",
              "</pre>"
            ],
            "text/plain": [
              "<IPython.core.display.HTML object>"
            ]
          },
          "metadata": {},
          "output_type": "display_data"
        },
        {
          "data": {
            "text/markdown": [
              "---"
            ],
            "text/plain": [
              "<IPython.core.display.Markdown object>"
            ]
          },
          "metadata": {},
          "output_type": "display_data"
        },
        {
          "data": {
            "text/markdown": [
              "Sample of 10 Time Series Data Points (Temperature vs. Time):\n",
              " Time (hours)  Temperature (°C)\n",
              "     0.000000         38.130405\n",
              "     0.505051        399.580910\n",
              "     1.111111        677.279769\n",
              "     1.969697        879.355258\n",
              "     2.222222        896.716814\n",
              "     2.272727        909.452131\n",
              "     2.676768        912.987181\n",
              "     3.535354        984.440249\n",
              "     4.040404        973.334038\n",
              "     4.191919       1021.260406\n"
            ],
            "text/plain": [
              "<IPython.core.display.Markdown object>"
            ]
          },
          "metadata": {},
          "output_type": "display_data"
        },
        {
          "data": {
            "text/markdown": [
              "---"
            ],
            "text/plain": [
              "<IPython.core.display.Markdown object>"
            ]
          },
          "metadata": {},
          "output_type": "display_data"
        },
        {
          "data": {
            "text/markdown": [
              "The output above shows a sample of 10 data points from the generated time series. Each row represents a specific time point and the corresponding temperature in the furnace, which includes the simulated heating profile and added random noise. The temperatures generally increase over time, reflecting the furnace heating up, with slight fluctuations due to the noise."
            ],
            "text/plain": [
              "<IPython.core.display.Markdown object>"
            ]
          },
          "metadata": {},
          "output_type": "display_data"
        },
        {
          "data": {
            "text/markdown": [
              "---"
            ],
            "text/plain": [
              "<IPython.core.display.Markdown object>"
            ]
          },
          "metadata": {},
          "output_type": "display_data"
        }
      ],
      "source": [
        "# Tạo dataframe mẫu cho dữ liệu chuỗi thời gian về nhiệt độ theo thời gian trong lò thử nghiệm. Thêm nhiễu vào dữ liệu. Xuất ra mẫu 10 điểm dữ liệu từ dữ liệu chuỗi thời gian.\n",
        "PROMPT = \"Create sample dataframe of time series data of temperature vs. time in a test furnace. Add noise to the data. Output a sample of 10 data points from the time series data.\" # @param {type: \"string\" }\n",
        "\n",
        "response = chat.send_message(PROMPT)\n",
        "\n",
        "display_code_execution_result(response)"
      ]
    },
    {
      "cell_type": "markdown",
      "metadata": {
        "id": "4AHoGmDBQuxn"
      },
      "source": [
        "Now you can ask the model to add a smoothed data series to the time series data:"
      ]
    },
    {
      "cell_type": "code",
      "execution_count": null,
      "metadata": {
        "colab": {
          "base_uri": "https://localhost:8080/",
          "height": 963
        },
        "id": "alR_tq3pss7j",
        "outputId": "37903c45-e522-43de-c9fa-a31800271108"
      },
      "outputs": [
        {
          "data": {
            "text/markdown": [
              "To add a smoothed data series to the sample data, I will use the Exponential Weighted Mean (EWM) method. This method is suitable for time series data as it gives more weight to recent observations and provides a smooth curve without reducing the number of data points, which is important for a small sample size like 10 points.\n",
              "\n",
              "First, I'll regenerate the original sample data to ensure consistency. Then, I'll apply the EWM with a `span` parameter (which controls the degree of smoothing; a smaller span means less smoothing, a larger span means more smoothing) to the `Temperature (°C)` column and add it as a new column.\n",
              "\n"
            ],
            "text/plain": [
              "<IPython.core.display.Markdown object>"
            ]
          },
          "metadata": {},
          "output_type": "display_data"
        },
        {
          "data": {
            "text/markdown": [
              "---"
            ],
            "text/plain": [
              "<IPython.core.display.Markdown object>"
            ]
          },
          "metadata": {},
          "output_type": "display_data"
        },
        {
          "data": {
            "text/html": [
              "<pre style=\"background-color: green;\">import numpy as np\n",
              "import pandas as pd\n",
              "\n",
              "# Re-create the original sample data (as generated in the previous step)\n",
              "# 1. Define time range\n",
              "time_hours = np.linspace(0, 5, 100)\n",
              "\n",
              "# 2. Generate a base temperature profile (exponential rise)\n",
              "initial_temp = 25  # °C (room temperature)\n",
              "target_temp = 1000 # °C (furnace setpoint)\n",
              "heating_rate_constant = 1.0 # Controls how fast it heats up\n",
              "\n",
              "base_temperature = initial_temp + (target_temp - initial_temp) * (1 - np.exp(-heating_rate_constant * time_hours))\n",
              "\n",
              "# 3. Add random noise\n",
              "noise_std_dev = 20 # Standard deviation of the noise in °C\n",
              "noise = np.random.normal(0, noise_std_dev, len(time_hours))\n",
              "noisy_temperature = base_temperature + noise\n",
              "\n",
              "# Ensure temperature doesn't go below initial temp significantly due to noise\n",
              "noisy_temperature[noisy_temperature < initial_temp - noise_std_dev] = initial_temp - noise_std_dev\n",
              "\n",
              "# Create a DataFrame for better organization\n",
              "furnace_data = pd.DataFrame({\n",
              "    'Time (hours)': time_hours,\n",
              "    'Temperature (°C)': noisy_temperature\n",
              "})\n",
              "\n",
              "# 4. Select a sample of 10 data points (using the same random_state for reproducibility)\n",
              "sample_data = furnace_data.sample(n=10, random_state=42).sort_values(by='Time (hours)').reset_index(drop=True)\n",
              "\n",
              "# Now, add the smoothed data series\n",
              "# Using Exponential Weighted Mean (EWM) for smoothing\n",
              "# The 'span' parameter is similar to a window size; a smaller span means less smoothing.\n",
              "# For 10 points, a span of 3 or 5 is reasonable. Let's use 3 for moderate smoothing.\n",
              "sample_data['Smoothed Temperature (°C)'] = sample_data['Temperature (°C)'].ewm(span=3).mean()\n",
              "\n",
              "print(\"Sample of 10 Time Series Data Points with Smoothed Temperature:\")\n",
              "print(sample_data.to_string(index=False))\n",
              "</pre>"
            ],
            "text/plain": [
              "<IPython.core.display.HTML object>"
            ]
          },
          "metadata": {},
          "output_type": "display_data"
        },
        {
          "data": {
            "text/markdown": [
              "---"
            ],
            "text/plain": [
              "<IPython.core.display.Markdown object>"
            ]
          },
          "metadata": {},
          "output_type": "display_data"
        },
        {
          "data": {
            "text/markdown": [
              "Sample of 10 Time Series Data Points with Smoothed Temperature:\n",
              " Time (hours)  Temperature (°C)  Smoothed Temperature (°C)\n",
              "     0.000000         57.648681                  57.648681\n",
              "     0.505051        373.011211                 267.890367\n",
              "     1.111111        696.633976                 512.886715\n",
              "     1.969697        822.068307                 677.783564\n",
              "     2.222222        883.237047                 783.824072\n",
              "     2.272727        858.584536                 821.797641\n",
              "     2.676768        957.371502                 890.118327\n",
              "     3.535354        978.844532                 934.655402\n",
              "     4.040404        977.716477                 956.228074\n",
              "     4.191919       1007.870187                 982.074371\n"
            ],
            "text/plain": [
              "<IPython.core.display.Markdown object>"
            ]
          },
          "metadata": {},
          "output_type": "display_data"
        },
        {
          "data": {
            "text/markdown": [
              "---"
            ],
            "text/plain": [
              "<IPython.core.display.Markdown object>"
            ]
          },
          "metadata": {},
          "output_type": "display_data"
        },
        {
          "data": {
            "text/markdown": [
              "The output now includes a new column, `Smoothed Temperature (°C)`, which represents the smoothed version of the original `Temperature (°C)` data. You can observe that the `Smoothed Temperature (°C)` values follow the general trend of the `Temperature (°C)` but with less fluctuation, especially noticeable in the initial points where the smoothing effect is more pronounced as the EWM accumulates data."
            ],
            "text/plain": [
              "<IPython.core.display.Markdown object>"
            ]
          },
          "metadata": {},
          "output_type": "display_data"
        },
        {
          "data": {
            "text/markdown": [
              "---"
            ],
            "text/plain": [
              "<IPython.core.display.Markdown object>"
            ]
          },
          "metadata": {},
          "output_type": "display_data"
        }
      ],
      "source": [
        "# Bây giờ hãy thêm một chuỗi dữ liệu làm mượt dữ liệu mẫu\n",
        "PROMPT = \"Now add a data series that smooths the sample data.\" # @param {type: \"string\" }\n",
        "\n",
        "response = chat.send_message(PROMPT)\n",
        "\n",
        "display_code_execution_result(response)"
      ]
    },
    {
      "cell_type": "markdown",
      "metadata": {
        "id": "I4VacTEyQ4lD"
      },
      "source": [
        "Finally, you can ask the model to generate descriptive statistics for the time series data:"
      ]
    },
    {
      "cell_type": "code",
      "execution_count": null,
      "metadata": {
        "colab": {
          "base_uri": "https://localhost:8080/",
          "height": 1000
        },
        "id": "dmhPzmP8tywL",
        "outputId": "d225d905-b8a8-479b-ca8f-78c76a69313c"
      },
      "outputs": [
        {
          "data": {
            "text/markdown": [
              "To generate descriptive statistics for the sample time series data, including the newly added 'Smoothed Temperature (°C)'"
            ],
            "text/plain": [
              "<IPython.core.display.Markdown object>"
            ]
          },
          "metadata": {},
          "output_type": "display_data"
        },
        {
          "data": {
            "text/markdown": [
              "---"
            ],
            "text/plain": [
              "<IPython.core.display.Markdown object>"
            ]
          },
          "metadata": {},
          "output_type": "display_data"
        },
        {
          "data": {
            "text/markdown": [
              " column, I will use the `describe()` method from the pandas library. This will provide a summary of central tendency, dispersion, and shape for all numerical columns."
            ],
            "text/plain": [
              "<IPython.core.display.Markdown object>"
            ]
          },
          "metadata": {},
          "output_type": "display_data"
        },
        {
          "data": {
            "text/markdown": [
              "---"
            ],
            "text/plain": [
              "<IPython.core.display.Markdown object>"
            ]
          },
          "metadata": {},
          "output_type": "display_data"
        },
        {
          "data": {
            "text/markdown": [
              "\n",
              "\n",
              "The statistics will include:\n",
              "*   **count**: Number of non-null observations.\n",
              "*   **mean**: The average value.\n",
              "*   **std**: Standard deviation, which measures the amount of variation or dispersion.\n",
              "*   "
            ],
            "text/plain": [
              "<IPython.core.display.Markdown object>"
            ]
          },
          "metadata": {},
          "output_type": "display_data"
        },
        {
          "data": {
            "text/markdown": [
              "---"
            ],
            "text/plain": [
              "<IPython.core.display.Markdown object>"
            ]
          },
          "metadata": {},
          "output_type": "display_data"
        },
        {
          "data": {
            "text/markdown": [
              "**min**: The minimum value.\n",
              "*   **25% (Q1)**: The first quartile (25th percentile).\n",
              "*   **50% (Q2)**: The median (50th percentile)."
            ],
            "text/plain": [
              "<IPython.core.display.Markdown object>"
            ]
          },
          "metadata": {},
          "output_type": "display_data"
        },
        {
          "data": {
            "text/markdown": [
              "---"
            ],
            "text/plain": [
              "<IPython.core.display.Markdown object>"
            ]
          },
          "metadata": {},
          "output_type": "display_data"
        },
        {
          "data": {
            "text/markdown": [
              "\n",
              "*   **75% (Q3)**: The third quartile (75th percentile).\n",
              "*   **max**: The maximum value.\n",
              "\n",
              "Here's the Python code to generate these statistics:\n",
              "\n"
            ],
            "text/plain": [
              "<IPython.core.display.Markdown object>"
            ]
          },
          "metadata": {},
          "output_type": "display_data"
        },
        {
          "data": {
            "text/markdown": [
              "---"
            ],
            "text/plain": [
              "<IPython.core.display.Markdown object>"
            ]
          },
          "metadata": {},
          "output_type": "display_data"
        },
        {
          "data": {
            "text/html": [
              "<pre style=\"background-color: green;\">import numpy as np\n",
              "import pandas as pd\n",
              "\n",
              "# Re-create the original sample data (as generated in the previous steps)\n",
              "# 1. Define time range\n",
              "time_hours = np.linspace(0, 5, 100)\n",
              "\n",
              "# 2. Generate a base temperature profile (exponential rise)\n",
              "initial_temp = 25  # °C (room temperature)\n",
              "target_temp = 1000 # °C (furnace setpoint)\n",
              "heating_rate_constant = 1.0 # Controls how fast it heats up\n",
              "\n",
              "base_temperature = initial_temp + (target_temp - initial_temp) * (1 - np.exp(-heating_rate_constant * time_hours))\n",
              "\n",
              "# 3. Add random noise\n",
              "noise_std_dev = 20 # Standard deviation of the noise in °C\n",
              "noise = np.random.normal(0, noise_std_dev, len(time_hours))\n",
              "noisy_temperature = base_temperature + noise\n",
              "\n",
              "# Ensure temperature doesn't go below initial temp significantly due to noise\n",
              "noisy_temperature[noisy_temperature < initial_temp - noise_std_dev] = initial_temp - noise_std_dev\n",
              "\n",
              "# Create a DataFrame for better organization\n",
              "furnace_data = pd.DataFrame({\n",
              "    'Time (hours)': time_hours,\n",
              "    'Temperature (°C)': noisy_temperature\n",
              "})\n",
              "\n",
              "# 4. Select a sample of 10 data points (using the same random_state for reproducibility)\n",
              "sample_data = furnace_data.sample(n=10, random_state=42).sort_values(by='Time (hours)').reset_index(drop=True)\n",
              "\n",
              "# Add the smoothed data series (as done in the previous step)\n",
              "sample_data['Smoothed Temperature (°C)'] = sample_data['Temperature (°C)'].ewm(span=3).mean()\n",
              "\n",
              "# Generate descriptive statistics for the entire DataFrame\n",
              "descriptive_stats = sample_data.describe()\n",
              "\n",
              "print(\"Descriptive Statistics for the Sample Time Series Data (including Smoothed Temperature):\")\n",
              "print(descriptive_stats.to_string())\n",
              "</pre>"
            ],
            "text/plain": [
              "<IPython.core.display.HTML object>"
            ]
          },
          "metadata": {},
          "output_type": "display_data"
        },
        {
          "data": {
            "text/markdown": [
              "---"
            ],
            "text/plain": [
              "<IPython.core.display.Markdown object>"
            ]
          },
          "metadata": {},
          "output_type": "display_data"
        },
        {
          "data": {
            "text/markdown": [
              "Descriptive Statistics for the Sample Time Series Data (including Smoothed Temperature):\n",
              "       Time (hours)  Temperature (°C)  Smoothed Temperature (°C)\n",
              "count     10.000000         10.000000                  10.000000\n",
              "mean       2.252525        756.304451                 683.508581\n",
              "std        1.425758        320.061619                 326.944108\n",
              "min        0.000000          5.000000                   5.000000\n",
              "25%        1.325758        719.063846                 547.519762\n",
              "50%        2.247475        872.947528                 808.728882\n",
              "75%        3.320707        943.895983                 927.336353\n",
              "max        4.191919       1001.639283                 971.434049\n"
            ],
            "text/plain": [
              "<IPython.core.display.Markdown object>"
            ]
          },
          "metadata": {},
          "output_type": "display_data"
        },
        {
          "data": {
            "text/markdown": [
              "---"
            ],
            "text/plain": [
              "<IPython.core.display.Markdown object>"
            ]
          },
          "metadata": {},
          "output_type": "display_data"
        },
        {
          "data": {
            "text/markdown": [
              "The table above provides the descriptive"
            ],
            "text/plain": [
              "<IPython.core.display.Markdown object>"
            ]
          },
          "metadata": {},
          "output_type": "display_data"
        },
        {
          "data": {
            "text/markdown": [
              "---"
            ],
            "text/plain": [
              "<IPython.core.display.Markdown object>"
            ]
          },
          "metadata": {},
          "output_type": "display_data"
        },
        {
          "data": {
            "text/markdown": [
              " statistics for 'Time (hours)', 'Temperature (°C)', and the newly added 'Smoothed Temperature (°"
            ],
            "text/plain": [
              "<IPython.core.display.Markdown object>"
            ]
          },
          "metadata": {},
          "output_type": "display_data"
        },
        {
          "data": {
            "text/markdown": [
              "---"
            ],
            "text/plain": [
              "<IPython.core.display.Markdown object>"
            ]
          },
          "metadata": {},
          "output_type": "display_data"
        },
        {
          "data": {
            "text/markdown": [
              "C)' columns in the 10-point sample data.\n",
              "\n",
              "**Key observations:**"
            ],
            "text/plain": [
              "<IPython.core.display.Markdown object>"
            ]
          },
          "metadata": {},
          "output_type": "display_data"
        },
        {
          "data": {
            "text/markdown": [
              "---"
            ],
            "text/plain": [
              "<IPython.core.display.Markdown object>"
            ]
          },
          "metadata": {},
          "output_type": "display_data"
        },
        {
          "data": {
            "text/markdown": [
              "\n",
              "\n",
              "*   **Count:** All columns have 10 data points, as expected.\n",
              "*   **Mean Temperature:** The mean of the raw `Temperature (°C)` is approximately"
            ],
            "text/plain": [
              "<IPython.core.display.Markdown object>"
            ]
          },
          "metadata": {},
          "output_type": "display_data"
        },
        {
          "data": {
            "text/markdown": [
              "---"
            ],
            "text/plain": [
              "<IPython.core.display.Markdown object>"
            ]
          },
          "metadata": {},
          "output_type": "display_data"
        },
        {
          "data": {
            "text/markdown": [
              " 756.30 °C, while the `Smoothed Temperature (°C)` has a mean of about 683.51 °C. The difference"
            ],
            "text/plain": [
              "<IPython.core.display.Markdown object>"
            ]
          },
          "metadata": {},
          "output_type": "display_data"
        },
        {
          "data": {
            "text/markdown": [
              "---"
            ],
            "text/plain": [
              "<IPython.core.display.Markdown object>"
            ]
          },
          "metadata": {},
          "output_type": "display_data"
        },
        {
          "data": {
            "text/markdown": [
              " is due to the nature of EWM, which gives more weight to recent values and can slightly shift the mean, especially with a small number of points and a strong trend.\n",
              "*   **Standard Deviation:** The standard deviation for `Temperature (°C)` is"
            ],
            "text/plain": [
              "<IPython.core.display.Markdown object>"
            ]
          },
          "metadata": {},
          "output_type": "display_data"
        },
        {
          "data": {
            "text/markdown": [
              "---"
            ],
            "text/plain": [
              "<IPython.core.display.Markdown object>"
            ]
          },
          "metadata": {},
          "output_type": "display_data"
        },
        {
          "data": {
            "text/markdown": [
              " about 320.06 °C, indicating its variability. The `Smoothed Temperature (°C)` has a standard deviation of about 326.94 °C. While smoothing generally reduces variance, with a small sample size and a"
            ],
            "text/plain": [
              "<IPython.core.display.Markdown object>"
            ]
          },
          "metadata": {},
          "output_type": "display_data"
        },
        {
          "data": {
            "text/markdown": [
              "---"
            ],
            "text/plain": [
              "<IPython.core.display.Markdown object>"
            ]
          },
          "metadata": {},
          "output_type": "display_data"
        },
        {
          "data": {
            "text/markdown": [
              " strong underlying trend, the EWM can sometimes show a slightly different standard deviation depending on the `span` and the data's initial points.\n",
              "*   **Min/Max Temperature:** The range for `Temperature (°C)` is from 5.00 °C to 1001.64 °C."
            ],
            "text/plain": [
              "<IPython.core.display.Markdown object>"
            ]
          },
          "metadata": {},
          "output_type": "display_data"
        },
        {
          "data": {
            "text/markdown": [
              "---"
            ],
            "text/plain": [
              "<IPython.core.display.Markdown object>"
            ]
          },
          "metadata": {},
          "output_type": "display_data"
        },
        {
          "data": {
            "text/markdown": [
              " For `Smoothed Temperature (°C)`, the range is from 5.00 °C to 971.43 °C. The smoothed data's maximum is slightly lower than the raw data's maximum, which is a typical effect of smoothing (reducing extreme values).\n",
              "*   **Quart"
            ],
            "text/plain": [
              "<IPython.core.display.Markdown object>"
            ]
          },
          "metadata": {},
          "output_type": "display_data"
        },
        {
          "data": {
            "text/markdown": [
              "---"
            ],
            "text/plain": [
              "<IPython.core.display.Markdown object>"
            ]
          },
          "metadata": {},
          "output_type": "display_data"
        },
        {
          "data": {
            "text/markdown": [
              "iles:** Comparing the quartiles, the `Smoothed Temperature (°C)` values generally show a less erratic progression than the raw `Temperature (°C)` values, reflecting the smoothing effect. For instance, the 25th percentile for smoothed data is 547.52 °C, while for raw data it's 7"
            ],
            "text/plain": [
              "<IPython.core.display.Markdown object>"
            ]
          },
          "metadata": {},
          "output_type": "display_data"
        },
        {
          "data": {
            "text/markdown": [
              "---"
            ],
            "text/plain": [
              "<IPython.core.display.Markdown object>"
            ]
          },
          "metadata": {},
          "output_type": "display_data"
        },
        {
          "data": {
            "text/markdown": [
              "19.06 °C, indicating that the smoothing has pulled down some of the lower values more significantly due to the exponential weighting."
            ],
            "text/plain": [
              "<IPython.core.display.Markdown object>"
            ]
          },
          "metadata": {},
          "output_type": "display_data"
        },
        {
          "data": {
            "text/markdown": [
              "---"
            ],
            "text/plain": [
              "<IPython.core.display.Markdown object>"
            ]
          },
          "metadata": {},
          "output_type": "display_data"
        }
      ],
      "source": [
        "# Bây giờ hãy tạo ra và xuất các thống kê mô tả về dữ liệu chuỗi thời gian\n",
        "PROMPT = \"Now generate and output descriptive statistics on the time series data.\" # @param {type: \"string\" }\n",
        "\n",
        "response = chat.send_message_stream(PROMPT)\n",
        "\n",
        "for chunk in response:\n",
        "    display_code_execution_result(chunk)"
      ]
    },
    {
      "cell_type": "markdown",
      "metadata": {
        "id": "TBbNyWtDRZto"
      },
      "source": [
        "This chat example demonstrates how you can use the Gemini API with code execution as a powerful tool for exploratory data analysis and more. Go forth and adapt this approach to your own projects and use cases!"
      ]
    },
    {
      "cell_type": "markdown",
      "metadata": {
        "id": "C58L4giIjS-A"
      },
      "source": [
        "#### Your turn\n",
        "\n",
        "Rewrite the question in your language to understand how it work\n"
      ]
    },
    {
      "cell_type": "markdown",
      "metadata": {
        "id": "Cl86I5FkdotW"
      },
      "source": [
        "#### Your challenge\n",
        "\n",
        "![image](https://img.freepik.com/free-psd/roasted-chicken-dinner-platter-delicious-feast_632498-25445.jpg?semt=ais_hybrid&w=740)\n",
        "\n",
        "Here is link of food image https://img.freepik.com/free-psd/roasted-chicken-dinner-platter-delicious-feast_632498-25445.jpg\"\n",
        "\n",
        "List all ingredient in the food image\n",
        "\n"
      ]
    },
    {
      "cell_type": "code",
      "execution_count": null,
      "metadata": {
        "id": "I8Igd-8w0b7u"
      },
      "outputs": [],
      "source": [
        "# Code here"
      ]
    },
    {
      "cell_type": "markdown",
      "metadata": {
        "id": "KO3wEya9hY88"
      },
      "source": [
        "##### Calculate protein, carb, fat of each ingredient"
      ]
    },
    {
      "cell_type": "code",
      "execution_count": null,
      "metadata": {
        "id": "QZ1YE9ET0b7u"
      },
      "outputs": [],
      "source": [
        "# Code here"
      ]
    },
    {
      "cell_type": "markdown",
      "metadata": {
        "id": "Hb83kXEjhdgB"
      },
      "source": [
        "##### Then draw chart to visualize the nutrition of each ingredient"
      ]
    },
    {
      "cell_type": "code",
      "execution_count": null,
      "metadata": {
        "id": "jwySMQxn0b7u"
      },
      "outputs": [],
      "source": [
        "# Code here"
      ]
    }
  ],
  "metadata": {
    "colab": {
      "collapsed_sections": [
        "YZNpgtKJDdPZ"
      ],
      "name": "intro_code_execution.ipynb",
      "provenance": [],
      "toc_visible": true,
      "include_colab_link": true
    },
    "kernelspec": {
      "display_name": "gdg-intro-to-code-execution (3.13.2)",
      "language": "python",
      "name": "python3"
    },
    "language_info": {
      "name": "python",
      "version": "3.13.2"
    }
  },
  "nbformat": 4,
  "nbformat_minor": 0
}